{
 "cells": [
  {
   "cell_type": "code",
   "execution_count": 1,
   "metadata": {},
   "outputs": [],
   "source": [
    "import numpy as np\n",
    "from optimizers import *"
   ]
  },
  {
   "cell_type": "markdown",
   "metadata": {},
   "source": [
    "# Wheel"
   ]
  },
  {
   "cell_type": "code",
   "execution_count": 2,
   "metadata": {},
   "outputs": [
    {
     "name": "stdout",
     "output_type": "stream",
     "text": [
      "Best Solution: [-0.02094517  0.00999752] Fitness: 0.0005386506834496375\n"
     ]
    }
   ],
   "source": [
    "def sphere(x):\n",
    "    \"\"\"Sphere function (minimization): f(x) = sum(x_i^2)\"\"\"\n",
    "    return np.sum(x**2)\n",
    "\n",
    "bounds = [(-5, 5)] * 2\n",
    "\n",
    "wheel = WheelOptimizer(sphere, bounds, pop_size=30, iterations=100)\n",
    "best_sol, best_fit = wheel.optimize()\n",
    "print(\"Best Solution:\", best_sol, \"Fitness:\", best_fit)"
   ]
  },
  {
   "cell_type": "markdown",
   "metadata": {},
   "source": [
    "# Grey Wolf"
   ]
  },
  {
   "cell_type": "code",
   "execution_count": 8,
   "metadata": {},
   "outputs": [
    {
     "name": "stdout",
     "output_type": "stream",
     "text": [
      "\n",
      "Grey Wolf Optimizer:\n",
      "Best Solution: [9.16463793e-26 9.61540217e-26] Fitness: 1.7644654722657712e-50\n"
     ]
    }
   ],
   "source": [
    "def sphere(x):\n",
    "    \"\"\"Sphere function (minimization): f(x) = sum(x_i^2)\"\"\"\n",
    "    return np.sum(x**2)\n",
    "\n",
    "bounds = [(-5, 5)] * 2\n",
    "\n",
    "print(\"\\nGrey Wolf Optimizer:\")\n",
    "gwo = GreyWolfOptimizer(sphere, bounds, pop_size=30, iterations=100)\n",
    "best_sol, best_fit = gwo.optimize()\n",
    "print(\"Best Solution:\", best_sol, \"Fitness:\", best_fit)"
   ]
  },
  {
   "cell_type": "markdown",
   "metadata": {},
   "source": [
    "# Bat"
   ]
  },
  {
   "cell_type": "code",
   "execution_count": 7,
   "metadata": {},
   "outputs": [
    {
     "name": "stdout",
     "output_type": "stream",
     "text": [
      "\n",
      "Bat Algorithm:\n",
      "Best Solution: [ 0.15271677 -1.4235752 ] Fitness: 2.049888764140699\n"
     ]
    }
   ],
   "source": [
    "def sphere(x):\n",
    "    \"\"\"Sphere function (minimization): f(x) = sum(x_i^2)\"\"\"\n",
    "    return np.sum(x**2)\n",
    "\n",
    "bounds = [(-5, 5)] * 2\n",
    "\n",
    "print(\"\\nBat Algorithm:\")\n",
    "bat = BatAlgorithm(sphere, bounds, pop_size=30, iterations=100)\n",
    "best_sol, best_fit = bat.optimize()\n",
    "print(\"Best Solution:\", best_sol, \"Fitness:\", best_fit)"
   ]
  },
  {
   "cell_type": "markdown",
   "metadata": {},
   "source": [
    "# Genetic"
   ]
  },
  {
   "cell_type": "code",
   "execution_count": 10,
   "metadata": {},
   "outputs": [
    {
     "name": "stdout",
     "output_type": "stream",
     "text": [
      "\n",
      "Genetic Algorithm:\n",
      "Best Solution: [-0.00299593 -0.00181967] Fitness: 1.2286793972275286e-05\n"
     ]
    }
   ],
   "source": [
    "def sphere(x):\n",
    "    \"\"\"Sphere function (minimization): f(x) = sum(x_i^2)\"\"\"\n",
    "    return np.sum(x**2)\n",
    "\n",
    "bounds = [(-5, 5)] * 2\n",
    "\n",
    "print(\"\\nGenetic Algorithm:\")\n",
    "ga = GeneticAlgorithm(sphere, bounds, pop_size=50, iterations=100)\n",
    "best_sol, best_fit = ga.optimize()\n",
    "print(\"Best Solution:\", best_sol, \"Fitness:\", best_fit)"
   ]
  },
  {
   "cell_type": "markdown",
   "metadata": {},
   "source": [
    "# Firefly"
   ]
  },
  {
   "cell_type": "code",
   "execution_count": 11,
   "metadata": {},
   "outputs": [
    {
     "name": "stdout",
     "output_type": "stream",
     "text": [
      "\n",
      "Firefly Algorithm:\n",
      "Best Solution: [-2.72205426e-04  3.84053350e-06] Fitness: 7.411054357785978e-08\n"
     ]
    }
   ],
   "source": [
    "def sphere(x):\n",
    "    \"\"\"Sphere function (minimization): f(x) = sum(x_i^2)\"\"\"\n",
    "    return np.sum(x**2)\n",
    "\n",
    "bounds = [(-5, 5)] * 2\n",
    "\n",
    "print(\"\\nFirefly Algorithm:\")\n",
    "firefly = FireflyAlgorithm(sphere, bounds, pop_size=30, iterations=100)\n",
    "best_sol, best_fit = firefly.optimize()\n",
    "print(\"Best Solution:\", best_sol, \"Fitness:\", best_fit)"
   ]
  },
  {
   "cell_type": "markdown",
   "metadata": {},
   "source": [
    "# Swarm"
   ]
  },
  {
   "cell_type": "code",
   "execution_count": 12,
   "metadata": {},
   "outputs": [
    {
     "name": "stdout",
     "output_type": "stream",
     "text": [
      "\n",
      "Particle Swarm Optimization:\n",
      "Best Solution: [-1.16829325e-09 -5.54297257e-11] Fitness: 1.4063004874574933e-21\n"
     ]
    }
   ],
   "source": [
    "def sphere(x):\n",
    "    \"\"\"Sphere function (minimization): f(x) = sum(x_i^2)\"\"\"\n",
    "    return np.sum(x**2)\n",
    "\n",
    "bounds = [(-5, 5)] * 2\n",
    "\n",
    "print(\"\\nParticle Swarm Optimization:\")\n",
    "pso = ParticleSwarmOptimizer(sphere, bounds, pop_size=30, iterations=100)\n",
    "best_sol, best_fit = pso.optimize()\n",
    "print(\"Best Solution:\", best_sol, \"Fitness:\", best_fit)"
   ]
  },
  {
   "cell_type": "markdown",
   "metadata": {},
   "source": [
    "# Ant"
   ]
  },
  {
   "cell_type": "code",
   "execution_count": 15,
   "metadata": {},
   "outputs": [
    {
     "name": "stdout",
     "output_type": "stream",
     "text": [
      "Iteration 1/20, Best cost so far: 3\n",
      "Iteration 2/20, Best cost so far: 3\n",
      "Iteration 3/20, Best cost so far: 3\n",
      "Iteration 4/20, Best cost so far: 3\n",
      "Iteration 5/20, Best cost so far: 3\n",
      "Iteration 6/20, Best cost so far: 3\n",
      "Iteration 7/20, Best cost so far: 3\n",
      "Iteration 8/20, Best cost so far: 3\n",
      "Iteration 9/20, Best cost so far: 3\n",
      "Iteration 10/20, Best cost so far: 3\n",
      "Iteration 11/20, Best cost so far: 3\n",
      "Iteration 12/20, Best cost so far: 3\n",
      "Iteration 13/20, Best cost so far: 3\n",
      "Iteration 14/20, Best cost so far: 3\n",
      "Iteration 15/20, Best cost so far: 3\n",
      "Iteration 16/20, Best cost so far: 3\n",
      "Iteration 17/20, Best cost so far: 3\n",
      "Iteration 18/20, Best cost so far: 3\n",
      "Iteration 19/20, Best cost so far: 3\n",
      "Iteration 20/20, Best cost so far: 3\n",
      "\n",
      "Best path found: ['A', 'B', 'C', 'D']\n",
      "Cost of best path: 3\n"
     ]
    }
   ],
   "source": [
    "graph = {\n",
    "    'A': {'B': 1, 'C': 3},\n",
    "    'B': {'A': 1, 'C': 1, 'D': 4},\n",
    "    'C': {'A': 3, 'B': 1, 'D': 1},\n",
    "    'D': {'B': 4, 'C': 1}\n",
    "}\n",
    "source = 'A'\n",
    "destination = 'D'\n",
    "n_ants = 10          # Number of ants per iteration\n",
    "n_iterations = 20    # Total iterations (more iterations can lead to improved results)\n",
    "decay = 0.8          # Pheromone evaporation rate\n",
    "alpha = 1            # Influence of pheromone\n",
    "beta = 2             # Influence of heuristic (1/distance)\n",
    "Q = 100              # Constant used for pheromone deposit scaling\n",
    "\n",
    "colony = AntColonyShortestPath(graph, source, destination, n_ants, n_iterations, decay, alpha, beta, Q)\n",
    "best_path, best_cost = colony.run()\n",
    "\n",
    "print(\"\\nBest path found:\", best_path)\n",
    "print(\"Cost of best path:\", best_cost)"
   ]
  },
  {
   "cell_type": "markdown",
   "metadata": {},
   "source": [
    "# Depth First Search"
   ]
  },
  {
   "cell_type": "code",
   "execution_count": 16,
   "metadata": {},
   "outputs": [
    {
     "name": "stdout",
     "output_type": "stream",
     "text": [
      "DFS Traversal:\n",
      "A\n",
      "B\n",
      "D\n",
      "E\n",
      "F\n",
      "C\n"
     ]
    },
    {
     "data": {
      "text/plain": [
       "{'A', 'B', 'C', 'D', 'E', 'F'}"
      ]
     },
     "execution_count": 16,
     "metadata": {},
     "output_type": "execute_result"
    }
   ],
   "source": [
    "# Example usage:\n",
    "graph = {\n",
    "    'A': ['B', 'C'],\n",
    "    'B': ['D', 'E'],\n",
    "    'C': ['F'],\n",
    "    'D': [],\n",
    "    'E': ['F'],\n",
    "    'F': []\n",
    "}\n",
    "\n",
    "print(\"DFS Traversal:\")\n",
    "dfs(graph, 'A')"
   ]
  },
  {
   "cell_type": "markdown",
   "metadata": {},
   "source": [
    "# Breath First Search"
   ]
  },
  {
   "cell_type": "code",
   "execution_count": 17,
   "metadata": {},
   "outputs": [
    {
     "name": "stdout",
     "output_type": "stream",
     "text": [
      "\n",
      "BFS Traversal:\n",
      "A\n",
      "B\n",
      "C\n",
      "D\n",
      "E\n",
      "F\n"
     ]
    }
   ],
   "source": [
    "print(\"\\nBFS Traversal:\")\n",
    "bfs(graph, 'A')"
   ]
  },
  {
   "cell_type": "markdown",
   "metadata": {},
   "source": [
    "# Dijkstra's"
   ]
  },
  {
   "cell_type": "code",
   "execution_count": 18,
   "metadata": {},
   "outputs": [
    {
     "name": "stdout",
     "output_type": "stream",
     "text": [
      "\n",
      "Dijkstra's Algorithm:\n",
      "{'A': 0, 'B': 1, 'C': 3, 'D': 4}\n"
     ]
    }
   ],
   "source": [
    "# Example usage:\n",
    "weighted_graph = {\n",
    "    'A': [('B', 1), ('C', 4)],\n",
    "    'B': [('A', 1), ('C', 2), ('D', 5)],\n",
    "    'C': [('A', 4), ('B', 2), ('D', 1)],\n",
    "    'D': [('B', 5), ('C', 1)]\n",
    "}\n",
    "\n",
    "print(\"\\nDijkstra's Algorithm:\")\n",
    "print(dijkstra(weighted_graph, 'A'))"
   ]
  },
  {
   "cell_type": "markdown",
   "metadata": {},
   "source": [
    "# A*"
   ]
  },
  {
   "cell_type": "code",
   "execution_count": 19,
   "metadata": {},
   "outputs": [
    {
     "name": "stdout",
     "output_type": "stream",
     "text": [
      "\n",
      "A* Algorithm Path:\n",
      "[(0, 0), (0, 1), (0, 2), (0, 3), (1, 3), (2, 3), (3, 3)]\n"
     ]
    }
   ],
   "source": [
    "grid = [\n",
    "    [0, 0, 0, 0],\n",
    "    [0, 1, 1, 0],  # 1 represents an obstacle\n",
    "    [0, 0, 0, 0],\n",
    "    [0, 1, 0, 0]\n",
    "]\n",
    "start = (0, 0)\n",
    "goal = (3, 3)\n",
    "path = astar(grid, start, goal)\n",
    "print(\"\\nA* Algorithm Path:\")\n",
    "print(path)"
   ]
  },
  {
   "cell_type": "markdown",
   "metadata": {},
   "source": [
    "# Hill Climbing"
   ]
  },
  {
   "cell_type": "code",
   "execution_count": 20,
   "metadata": {},
   "outputs": [
    {
     "name": "stdout",
     "output_type": "stream",
     "text": [
      "\n",
      "Hill Climbing Optimization:\n",
      "Best solution: 3.0000000000000013 with value: 10.0\n"
     ]
    }
   ],
   "source": [
    "def f(x):\n",
    "    return -(x - 3)**2 + 10\n",
    "\n",
    "best_x, best_value = hill_climbing(f, initial=0)\n",
    "print(\"\\nHill Climbing Optimization:\")\n",
    "print(\"Best solution:\", best_x, \"with value:\", best_value)"
   ]
  },
  {
   "cell_type": "code",
   "execution_count": 2,
   "metadata": {},
   "outputs": [
    {
     "name": "stdout",
     "output_type": "stream",
     "text": [
      "Iteration: 0, q: 6, big_males shape: (6, 5)\n",
      "Iteration: 1, q: 6, big_males shape: (6, 5)\n",
      "Iteration: 2, q: 6, big_males shape: (6, 5)\n",
      "Iteration: 3, q: 6, big_males shape: (6, 5)\n",
      "Iteration: 4, q: 5, big_males shape: (5, 5)\n",
      "Iteration: 5, q: 5, big_males shape: (5, 5)\n",
      "Iteration: 6, q: 6, big_males shape: (6, 5)\n",
      "Iteration: 7, q: 6, big_males shape: (6, 5)\n",
      "Iteration: 8, q: 6, big_males shape: (6, 5)\n",
      "Iteration: 9, q: 5, big_males shape: (5, 5)\n",
      "Iteration: 10, q: 6, big_males shape: (6, 5)\n",
      "Iteration: 11, q: 6, big_males shape: (6, 5)\n",
      "Iteration: 12, q: 6, big_males shape: (6, 5)\n",
      "Iteration: 13, q: 6, big_males shape: (6, 5)\n",
      "Iteration: 14, q: 6, big_males shape: (6, 5)\n",
      "Iteration: 15, q: 6, big_males shape: (6, 5)\n",
      "Iteration: 16, q: 6, big_males shape: (6, 5)\n",
      "Iteration: 17, q: 6, big_males shape: (6, 5)\n",
      "Iteration: 18, q: 5, big_males shape: (5, 5)\n",
      "Iteration: 19, q: 5, big_males shape: (5, 5)\n",
      "Iteration: 20, q: 5, big_males shape: (5, 5)\n",
      "Iteration: 21, q: 5, big_males shape: (5, 5)\n",
      "Iteration: 22, q: 5, big_males shape: (5, 5)\n",
      "Iteration: 23, q: 5, big_males shape: (5, 5)\n",
      "Iteration: 24, q: 5, big_males shape: (5, 5)\n",
      "Iteration: 25, q: 5, big_males shape: (5, 5)\n",
      "Iteration: 26, q: 6, big_males shape: (6, 5)\n",
      "Iteration: 27, q: 6, big_males shape: (6, 5)\n",
      "Iteration: 28, q: 6, big_males shape: (6, 5)\n",
      "Iteration: 29, q: 6, big_males shape: (6, 5)\n",
      "Iteration: 30, q: 5, big_males shape: (5, 5)\n",
      "Iteration: 31, q: 6, big_males shape: (6, 5)\n",
      "Iteration: 32, q: 6, big_males shape: (6, 5)\n",
      "Iteration: 33, q: 6, big_males shape: (6, 5)\n",
      "Iteration: 34, q: 6, big_males shape: (6, 5)\n",
      "Iteration: 35, q: 6, big_males shape: (6, 5)\n",
      "Iteration: 36, q: 6, big_males shape: (6, 5)\n",
      "Iteration: 37, q: 6, big_males shape: (6, 5)\n",
      "Iteration: 38, q: 6, big_males shape: (6, 5)\n",
      "Iteration: 39, q: 6, big_males shape: (6, 5)\n",
      "Iteration: 40, q: 5, big_males shape: (5, 5)\n",
      "Iteration: 41, q: 5, big_males shape: (5, 5)\n",
      "Iteration: 42, q: 6, big_males shape: (6, 5)\n",
      "Iteration: 43, q: 6, big_males shape: (6, 5)\n",
      "Iteration: 44, q: 6, big_males shape: (6, 5)\n",
      "Iteration: 45, q: 6, big_males shape: (6, 5)\n",
      "Iteration: 46, q: 6, big_males shape: (6, 5)\n",
      "Iteration: 47, q: 6, big_males shape: (6, 5)\n",
      "Iteration: 48, q: 6, big_males shape: (6, 5)\n",
      "Iteration: 49, q: 6, big_males shape: (6, 5)\n",
      "Iteration: 50, q: 6, big_males shape: (6, 5)\n",
      "Iteration: 51, q: 6, big_males shape: (6, 5)\n",
      "Iteration: 52, q: 6, big_males shape: (6, 5)\n",
      "Iteration: 53, q: 6, big_males shape: (6, 5)\n",
      "Iteration: 54, q: 6, big_males shape: (6, 5)\n",
      "Iteration: 55, q: 6, big_males shape: (6, 5)\n",
      "Iteration: 56, q: 6, big_males shape: (6, 5)\n",
      "Iteration: 57, q: 6, big_males shape: (6, 5)\n",
      "Iteration: 58, q: 6, big_males shape: (6, 5)\n",
      "Iteration: 59, q: 6, big_males shape: (6, 5)\n",
      "Iteration: 60, q: 6, big_males shape: (6, 5)\n",
      "Iteration: 61, q: 6, big_males shape: (6, 5)\n",
      "Iteration: 62, q: 6, big_males shape: (6, 5)\n",
      "Iteration: 63, q: 5, big_males shape: (5, 5)\n",
      "Iteration: 64, q: 5, big_males shape: (5, 5)\n",
      "Iteration: 65, q: 5, big_males shape: (5, 5)\n",
      "Iteration: 66, q: 5, big_males shape: (5, 5)\n",
      "Iteration: 67, q: 5, big_males shape: (5, 5)\n",
      "Iteration: 68, q: 5, big_males shape: (5, 5)\n",
      "Iteration: 69, q: 5, big_males shape: (5, 5)\n",
      "Iteration: 70, q: 5, big_males shape: (5, 5)\n",
      "Iteration: 71, q: 6, big_males shape: (6, 5)\n",
      "Iteration: 72, q: 5, big_males shape: (5, 5)\n",
      "Iteration: 73, q: 5, big_males shape: (5, 5)\n",
      "Iteration: 74, q: 5, big_males shape: (5, 5)\n",
      "Iteration: 75, q: 5, big_males shape: (5, 5)\n",
      "Iteration: 76, q: 5, big_males shape: (5, 5)\n",
      "Iteration: 77, q: 5, big_males shape: (5, 5)\n",
      "Iteration: 78, q: 5, big_males shape: (5, 5)\n",
      "Iteration: 79, q: 5, big_males shape: (5, 5)\n",
      "Iteration: 80, q: 5, big_males shape: (5, 5)\n",
      "Iteration: 81, q: 5, big_males shape: (5, 5)\n",
      "Iteration: 82, q: 5, big_males shape: (5, 5)\n",
      "Iteration: 83, q: 5, big_males shape: (5, 5)\n",
      "Iteration: 84, q: 5, big_males shape: (5, 5)\n",
      "Iteration: 85, q: 5, big_males shape: (5, 5)\n",
      "Iteration: 86, q: 5, big_males shape: (5, 5)\n",
      "Iteration: 87, q: 5, big_males shape: (5, 5)\n",
      "Iteration: 88, q: 5, big_males shape: (5, 5)\n",
      "Iteration: 89, q: 6, big_males shape: (6, 5)\n",
      "Iteration: 90, q: 6, big_males shape: (6, 5)\n",
      "Iteration: 91, q: 6, big_males shape: (6, 5)\n",
      "Iteration: 92, q: 6, big_males shape: (6, 5)\n",
      "Iteration: 93, q: 6, big_males shape: (6, 5)\n",
      "Iteration: 94, q: 6, big_males shape: (6, 5)\n",
      "Iteration: 95, q: 6, big_males shape: (6, 5)\n",
      "Iteration: 96, q: 6, big_males shape: (6, 5)\n",
      "Iteration: 97, q: 6, big_males shape: (6, 5)\n",
      "Iteration: 98, q: 6, big_males shape: (6, 5)\n",
      "Iteration: 99, q: 6, big_males shape: (6, 5)\n",
      "Best Solution: [ 0.55424466  0.66786258 -0.20617149 -0.35121704  1.06241974]\n",
      "Best Quality: 1.4292620773754436\n"
     ]
    }
   ],
   "source": [
    "def sphere_function(x):\n",
    "    return np.sum(x**2)\n",
    "\n",
    "best_solution, best_quality = komodo_mlipir_algorithm(n=20, m=5, p=0.3, d=0.1, lb=-10, ub=10, objective_function=sphere_function)\n",
    "print(\"Best Solution:\", best_solution)\n",
    "print(\"Best Quality:\", best_quality)"
   ]
  },
  {
   "cell_type": "code",
   "execution_count": null,
   "metadata": {},
   "outputs": [],
   "source": []
  }
 ],
 "metadata": {
  "kernelspec": {
   "display_name": "Python 3",
   "language": "python",
   "name": "python3"
  },
  "language_info": {
   "codemirror_mode": {
    "name": "ipython",
    "version": 3
   },
   "file_extension": ".py",
   "mimetype": "text/x-python",
   "name": "python",
   "nbconvert_exporter": "python",
   "pygments_lexer": "ipython3",
   "version": "3.10.1"
  }
 },
 "nbformat": 4,
 "nbformat_minor": 2
}
